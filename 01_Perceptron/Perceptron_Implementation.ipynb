{
 "cells": [
  {
   "cell_type": "markdown",
   "metadata": {
    "id": "fDDfjjv_x8vT"
   },
   "source": [
    "## Implimentation of Perceptron\n"
   ]
  },
  {
   "cell_type": "code",
   "execution_count": 21,
   "metadata": {
    "id": "F7tIBk9dx0ae"
   },
   "outputs": [],
   "source": [
    "import matplotlib.pyplot as plt\n",
    "import numpy as np\n",
    "import pandas as pd\n",
    "import joblib # FOR SAVING MY MODEL AS A BINARY FILE\n",
    "from matplotlib.colors import ListedColormap\n",
    "\n",
    "plt.style.use(\"fivethirtyeight\") # THIS IS STYLE OF GRAPHS"
   ]
  },
  {
   "cell_type": "code",
   "execution_count": 22,
   "metadata": {
    "colab": {
     "base_uri": "https://localhost:8080/"
    },
    "id": "-x6kExjDzryT",
    "outputId": "1dca723f-def3-4f85-8582-f06f9ff6697f"
   },
   "outputs": [
    {
     "data": {
      "text/plain": [
       "array([-5.31594951e-05,  6.19463812e-05,  1.56079853e-04])"
      ]
     },
     "execution_count": 22,
     "metadata": {},
     "output_type": "execute_result"
    }
   ],
   "source": [
    "np.random.randn(3) * 1e-4"
   ]
  },
  {
   "cell_type": "code",
   "execution_count": 23,
   "metadata": {
    "colab": {
     "base_uri": "https://localhost:8080/"
    },
    "id": "44tFWdbm055g",
    "outputId": "2678023d-2d94-40af-bdd2-2a75caf23479"
   },
   "outputs": [
    {
     "data": {
      "text/plain": [
       "array([[-1.],\n",
       "       [-1.],\n",
       "       [-1.],\n",
       "       [-1.]])"
      ]
     },
     "execution_count": 23,
     "metadata": {},
     "output_type": "execute_result"
    }
   ],
   "source": [
    "-np.ones((4, 1))"
   ]
  },
  {
   "cell_type": "code",
   "execution_count": 24,
   "metadata": {
    "colab": {
     "base_uri": "https://localhost:8080/"
    },
    "id": "ICwBcKKJ67t0",
    "outputId": "416d5ab6-7355-4051-e9ed-e36d3b45fa78"
   },
   "outputs": [
    {
     "data": {
      "text/plain": [
       "0.0001"
      ]
     },
     "execution_count": 24,
     "metadata": {},
     "output_type": "execute_result"
    }
   ],
   "source": [
    "1e-4"
   ]
  },
  {
   "cell_type": "code",
   "execution_count": 46,
   "metadata": {
    "id": "I6kYmEtNynUF"
   },
   "outputs": [],
   "source": [
    "class Perceptron:\n",
    "    def __init__(self, eta, epochs):\n",
    "        self.weights = np.random.randn(3) * 1e-4 # SMALL WEIGHT INIT\n",
    "        print(f\"initial weights before training: \\n{self.weights}\")\n",
    "        self.eta = eta # LEARNING RATE\n",
    "        self.epochs = epochs \n",
    "\n",
    "\n",
    "    def activationFunction(self, inputs, weights):\n",
    "        z = np.dot(inputs, weights) # z = W * X\n",
    "        print(\"inputs : \",inputs)\n",
    "        print(\"weights : \",weights)\n",
    "        print(\"z : \",z)\n",
    "        return np.where(z > 0, 1, 0) # CONDITION, IF TRUE, ELSE\n",
    "\n",
    "    def fit(self, X, y):\n",
    "        self.X = X\n",
    "        self.y = y\n",
    "\n",
    "        X_with_bias = np.c_[self.X, -np.ones((len(self.X), 1))] # CONCATINATION\n",
    "        print(f\"X with bias: \\n{X_with_bias}\")\n",
    "\n",
    "        for epoch in range(self.epochs):\n",
    "            print(\"--\"*10)\n",
    "            print(f\"for epoch: {epoch}\")\n",
    "            print(\"--\"*10)\n",
    "\n",
    "            y_hat = self.activationFunction(X_with_bias, self.weights) # foward propagation\n",
    "            print(f\"predicted value after forward pass: \\n{y_hat}\")\n",
    "            print(\"self.y : \",self.y)\n",
    "            print(\"y_hat : \",y_hat)\n",
    "            self.error = self.y - y_hat\n",
    "            print(f\"error: \\n{self.error}\")\n",
    "            print(\"X_with_bias.T : \",X_with_bias.T)\n",
    "            self.weights = self.weights + self.eta * np.dot(X_with_bias.T, self.error) # backward propagation\n",
    "            print(f\"updated weights after epoch:\\n{epoch}/{self.epochs} : \\n{self.weights}\")\n",
    "            print(\"#####\"*10)\n",
    "\n",
    "\n",
    "    def predict(self, X):\n",
    "        X_with_bias = np.c_[X, -np.ones((len(X), 1))]\n",
    "        print(\"X : \",X)\n",
    "        print(\"X_with_bias : \",X_with_bias)\n",
    "        return self.activationFunction(X_with_bias, self.weights)\n",
    "\n",
    "    def total_loss(self):\n",
    "        total_loss = np.sum(self.error)\n",
    "        print(f\"total loss: {total_loss}\")\n",
    "        return total_loss\n"
   ]
  },
  {
   "cell_type": "code",
   "execution_count": 47,
   "metadata": {
    "id": "xv6DH1ej3vDd"
   },
   "outputs": [],
   "source": [
    "def prepare_data(df):\n",
    "    X = df.drop(\"y\", axis=1)\n",
    "\n",
    "    y = df[\"y\"]\n",
    "\n",
    "    return X, y"
   ]
  },
  {
   "cell_type": "code",
   "execution_count": 48,
   "metadata": {
    "colab": {
     "base_uri": "https://localhost:8080/",
     "height": 175
    },
    "id": "PX3AO39h4Ijc",
    "outputId": "9c0183c1-4e6f-4530-d9e0-b1a6e472b4af"
   },
   "outputs": [
    {
     "data": {
      "text/html": [
       "<div>\n",
       "<style scoped>\n",
       "    .dataframe tbody tr th:only-of-type {\n",
       "        vertical-align: middle;\n",
       "    }\n",
       "\n",
       "    .dataframe tbody tr th {\n",
       "        vertical-align: top;\n",
       "    }\n",
       "\n",
       "    .dataframe thead th {\n",
       "        text-align: right;\n",
       "    }\n",
       "</style>\n",
       "<table border=\"1\" class=\"dataframe\">\n",
       "  <thead>\n",
       "    <tr style=\"text-align: right;\">\n",
       "      <th></th>\n",
       "      <th>x1</th>\n",
       "      <th>x2</th>\n",
       "      <th>y</th>\n",
       "    </tr>\n",
       "  </thead>\n",
       "  <tbody>\n",
       "    <tr>\n",
       "      <th>0</th>\n",
       "      <td>0</td>\n",
       "      <td>0</td>\n",
       "      <td>0</td>\n",
       "    </tr>\n",
       "    <tr>\n",
       "      <th>1</th>\n",
       "      <td>0</td>\n",
       "      <td>1</td>\n",
       "      <td>0</td>\n",
       "    </tr>\n",
       "    <tr>\n",
       "      <th>2</th>\n",
       "      <td>1</td>\n",
       "      <td>0</td>\n",
       "      <td>0</td>\n",
       "    </tr>\n",
       "    <tr>\n",
       "      <th>3</th>\n",
       "      <td>1</td>\n",
       "      <td>1</td>\n",
       "      <td>1</td>\n",
       "    </tr>\n",
       "  </tbody>\n",
       "</table>\n",
       "</div>"
      ],
      "text/plain": [
       "   x1  x2  y\n",
       "0   0   0  0\n",
       "1   0   1  0\n",
       "2   1   0  0\n",
       "3   1   1  1"
      ]
     },
     "execution_count": 48,
     "metadata": {},
     "output_type": "execute_result"
    }
   ],
   "source": [
    "AND = {\n",
    "    \"x1\": [0,0,1,1],\n",
    "    \"x2\": [0,1,0,1],\n",
    "    \"y\": [0,0,0,1],\n",
    "}\n",
    "\n",
    "df = pd.DataFrame(AND)\n",
    "\n",
    "df"
   ]
  },
  {
   "cell_type": "code",
   "execution_count": 49,
   "metadata": {},
   "outputs": [],
   "source": [
    "#### Delete below"
   ]
  },
  {
   "cell_type": "code",
   "execution_count": 50,
   "metadata": {},
   "outputs": [],
   "source": [
    "X,y = prepare_data(df)"
   ]
  },
  {
   "cell_type": "code",
   "execution_count": 51,
   "metadata": {},
   "outputs": [
    {
     "data": {
      "text/html": [
       "<div>\n",
       "<style scoped>\n",
       "    .dataframe tbody tr th:only-of-type {\n",
       "        vertical-align: middle;\n",
       "    }\n",
       "\n",
       "    .dataframe tbody tr th {\n",
       "        vertical-align: top;\n",
       "    }\n",
       "\n",
       "    .dataframe thead th {\n",
       "        text-align: right;\n",
       "    }\n",
       "</style>\n",
       "<table border=\"1\" class=\"dataframe\">\n",
       "  <thead>\n",
       "    <tr style=\"text-align: right;\">\n",
       "      <th></th>\n",
       "      <th>x1</th>\n",
       "      <th>x2</th>\n",
       "    </tr>\n",
       "  </thead>\n",
       "  <tbody>\n",
       "    <tr>\n",
       "      <th>0</th>\n",
       "      <td>0</td>\n",
       "      <td>0</td>\n",
       "    </tr>\n",
       "    <tr>\n",
       "      <th>1</th>\n",
       "      <td>0</td>\n",
       "      <td>1</td>\n",
       "    </tr>\n",
       "    <tr>\n",
       "      <th>2</th>\n",
       "      <td>1</td>\n",
       "      <td>0</td>\n",
       "    </tr>\n",
       "    <tr>\n",
       "      <th>3</th>\n",
       "      <td>1</td>\n",
       "      <td>1</td>\n",
       "    </tr>\n",
       "  </tbody>\n",
       "</table>\n",
       "</div>"
      ],
      "text/plain": [
       "   x1  x2\n",
       "0   0   0\n",
       "1   0   1\n",
       "2   1   0\n",
       "3   1   1"
      ]
     },
     "execution_count": 51,
     "metadata": {},
     "output_type": "execute_result"
    }
   ],
   "source": [
    "X"
   ]
  },
  {
   "cell_type": "code",
   "execution_count": 52,
   "metadata": {},
   "outputs": [
    {
     "data": {
      "text/plain": [
       "0    0\n",
       "1    0\n",
       "2    0\n",
       "3    1\n",
       "Name: y, dtype: int64"
      ]
     },
     "execution_count": 52,
     "metadata": {},
     "output_type": "execute_result"
    }
   ],
   "source": [
    "y"
   ]
  },
  {
   "cell_type": "code",
   "execution_count": 53,
   "metadata": {},
   "outputs": [],
   "source": [
    "ETA = 0.3 # 0 and 1\n",
    "EPOCHS = 10"
   ]
  },
  {
   "cell_type": "code",
   "execution_count": 54,
   "metadata": {},
   "outputs": [
    {
     "name": "stdout",
     "output_type": "stream",
     "text": [
      "initial weights before training: \n",
      "[-1.28207981e-04  4.77045550e-05 -3.51547268e-05]\n"
     ]
    }
   ],
   "source": [
    "model = Perceptron(eta=ETA, epochs=EPOCHS)"
   ]
  },
  {
   "cell_type": "code",
   "execution_count": 55,
   "metadata": {},
   "outputs": [
    {
     "name": "stdout",
     "output_type": "stream",
     "text": [
      "X with bias: \n",
      "[[ 0.  0. -1.]\n",
      " [ 0.  1. -1.]\n",
      " [ 1.  0. -1.]\n",
      " [ 1.  1. -1.]]\n",
      "--------------------\n",
      "for epoch: 0\n",
      "--------------------\n",
      "inputs :  [[ 0.  0. -1.]\n",
      " [ 0.  1. -1.]\n",
      " [ 1.  0. -1.]\n",
      " [ 1.  1. -1.]]\n",
      "weights :  [-1.28207981e-04  4.77045550e-05 -3.51547268e-05]\n",
      "z :  [ 3.51547268e-05  8.28592818e-05 -9.30532542e-05 -4.53486992e-05]\n",
      "predicted value after forward pass: \n",
      "[1 1 0 0]\n",
      "self.y :  0    0\n",
      "1    0\n",
      "2    0\n",
      "3    1\n",
      "Name: y, dtype: int64\n",
      "y_hat :  [1 1 0 0]\n",
      "error: \n",
      "0   -1\n",
      "1   -1\n",
      "2    0\n",
      "3    1\n",
      "Name: y, dtype: int64\n",
      "X_with_bias.T :  [[ 0.  0.  1.  1.]\n",
      " [ 0.  1.  0.  1.]\n",
      " [-1. -1. -1. -1.]]\n",
      "updated weights after epoch:\n",
      "0/10 : \n",
      "[2.99871792e-01 4.77045550e-05 2.99964845e-01]\n",
      "##################################################\n",
      "--------------------\n",
      "for epoch: 1\n",
      "--------------------\n",
      "inputs :  [[ 0.  0. -1.]\n",
      " [ 0.  1. -1.]\n",
      " [ 1.  0. -1.]\n",
      " [ 1.  1. -1.]]\n",
      "weights :  [2.99871792e-01 4.77045550e-05 2.99964845e-01]\n",
      "z :  [-2.99964845e-01 -2.99917141e-01 -9.30532542e-05 -4.53486992e-05]\n",
      "predicted value after forward pass: \n",
      "[0 0 0 0]\n",
      "self.y :  0    0\n",
      "1    0\n",
      "2    0\n",
      "3    1\n",
      "Name: y, dtype: int64\n",
      "y_hat :  [0 0 0 0]\n",
      "error: \n",
      "0    0\n",
      "1    0\n",
      "2    0\n",
      "3    1\n",
      "Name: y, dtype: int64\n",
      "X_with_bias.T :  [[ 0.  0.  1.  1.]\n",
      " [ 0.  1.  0.  1.]\n",
      " [-1. -1. -1. -1.]]\n",
      "updated weights after epoch:\n",
      "1/10 : \n",
      "[ 5.99871792e-01  3.00047705e-01 -3.51547268e-05]\n",
      "##################################################\n",
      "--------------------\n",
      "for epoch: 2\n",
      "--------------------\n",
      "inputs :  [[ 0.  0. -1.]\n",
      " [ 0.  1. -1.]\n",
      " [ 1.  0. -1.]\n",
      " [ 1.  1. -1.]]\n",
      "weights :  [ 5.99871792e-01  3.00047705e-01 -3.51547268e-05]\n",
      "z :  [3.51547268e-05 3.00082859e-01 5.99906947e-01 8.99954651e-01]\n",
      "predicted value after forward pass: \n",
      "[1 1 1 1]\n",
      "self.y :  0    0\n",
      "1    0\n",
      "2    0\n",
      "3    1\n",
      "Name: y, dtype: int64\n",
      "y_hat :  [1 1 1 1]\n",
      "error: \n",
      "0   -1\n",
      "1   -1\n",
      "2   -1\n",
      "3    0\n",
      "Name: y, dtype: int64\n",
      "X_with_bias.T :  [[ 0.  0.  1.  1.]\n",
      " [ 0.  1.  0.  1.]\n",
      " [-1. -1. -1. -1.]]\n",
      "updated weights after epoch:\n",
      "2/10 : \n",
      "[2.99871792e-01 4.77045550e-05 8.99964845e-01]\n",
      "##################################################\n",
      "--------------------\n",
      "for epoch: 3\n",
      "--------------------\n",
      "inputs :  [[ 0.  0. -1.]\n",
      " [ 0.  1. -1.]\n",
      " [ 1.  0. -1.]\n",
      " [ 1.  1. -1.]]\n",
      "weights :  [2.99871792e-01 4.77045550e-05 8.99964845e-01]\n",
      "z :  [-0.89996485 -0.89991714 -0.60009305 -0.60004535]\n",
      "predicted value after forward pass: \n",
      "[0 0 0 0]\n",
      "self.y :  0    0\n",
      "1    0\n",
      "2    0\n",
      "3    1\n",
      "Name: y, dtype: int64\n",
      "y_hat :  [0 0 0 0]\n",
      "error: \n",
      "0    0\n",
      "1    0\n",
      "2    0\n",
      "3    1\n",
      "Name: y, dtype: int64\n",
      "X_with_bias.T :  [[ 0.  0.  1.  1.]\n",
      " [ 0.  1.  0.  1.]\n",
      " [-1. -1. -1. -1.]]\n",
      "updated weights after epoch:\n",
      "3/10 : \n",
      "[0.59987179 0.3000477  0.59996485]\n",
      "##################################################\n",
      "--------------------\n",
      "for epoch: 4\n",
      "--------------------\n",
      "inputs :  [[ 0.  0. -1.]\n",
      " [ 0.  1. -1.]\n",
      " [ 1.  0. -1.]\n",
      " [ 1.  1. -1.]]\n",
      "weights :  [0.59987179 0.3000477  0.59996485]\n",
      "z :  [-5.99964845e-01 -2.99917141e-01 -9.30532542e-05  2.99954651e-01]\n",
      "predicted value after forward pass: \n",
      "[0 0 0 1]\n",
      "self.y :  0    0\n",
      "1    0\n",
      "2    0\n",
      "3    1\n",
      "Name: y, dtype: int64\n",
      "y_hat :  [0 0 0 1]\n",
      "error: \n",
      "0    0\n",
      "1    0\n",
      "2    0\n",
      "3    0\n",
      "Name: y, dtype: int64\n",
      "X_with_bias.T :  [[ 0.  0.  1.  1.]\n",
      " [ 0.  1.  0.  1.]\n",
      " [-1. -1. -1. -1.]]\n",
      "updated weights after epoch:\n",
      "4/10 : \n",
      "[0.59987179 0.3000477  0.59996485]\n",
      "##################################################\n",
      "--------------------\n",
      "for epoch: 5\n",
      "--------------------\n",
      "inputs :  [[ 0.  0. -1.]\n",
      " [ 0.  1. -1.]\n",
      " [ 1.  0. -1.]\n",
      " [ 1.  1. -1.]]\n",
      "weights :  [0.59987179 0.3000477  0.59996485]\n",
      "z :  [-5.99964845e-01 -2.99917141e-01 -9.30532542e-05  2.99954651e-01]\n",
      "predicted value after forward pass: \n",
      "[0 0 0 1]\n",
      "self.y :  0    0\n",
      "1    0\n",
      "2    0\n",
      "3    1\n",
      "Name: y, dtype: int64\n",
      "y_hat :  [0 0 0 1]\n",
      "error: \n",
      "0    0\n",
      "1    0\n",
      "2    0\n",
      "3    0\n",
      "Name: y, dtype: int64\n",
      "X_with_bias.T :  [[ 0.  0.  1.  1.]\n",
      " [ 0.  1.  0.  1.]\n",
      " [-1. -1. -1. -1.]]\n",
      "updated weights after epoch:\n",
      "5/10 : \n",
      "[0.59987179 0.3000477  0.59996485]\n",
      "##################################################\n",
      "--------------------\n",
      "for epoch: 6\n",
      "--------------------\n",
      "inputs :  [[ 0.  0. -1.]\n",
      " [ 0.  1. -1.]\n",
      " [ 1.  0. -1.]\n",
      " [ 1.  1. -1.]]\n",
      "weights :  [0.59987179 0.3000477  0.59996485]\n",
      "z :  [-5.99964845e-01 -2.99917141e-01 -9.30532542e-05  2.99954651e-01]\n",
      "predicted value after forward pass: \n",
      "[0 0 0 1]\n",
      "self.y :  0    0\n",
      "1    0\n",
      "2    0\n",
      "3    1\n",
      "Name: y, dtype: int64\n",
      "y_hat :  [0 0 0 1]\n",
      "error: \n",
      "0    0\n",
      "1    0\n",
      "2    0\n",
      "3    0\n",
      "Name: y, dtype: int64\n",
      "X_with_bias.T :  [[ 0.  0.  1.  1.]\n",
      " [ 0.  1.  0.  1.]\n",
      " [-1. -1. -1. -1.]]\n",
      "updated weights after epoch:\n",
      "6/10 : \n",
      "[0.59987179 0.3000477  0.59996485]\n",
      "##################################################\n",
      "--------------------\n",
      "for epoch: 7\n",
      "--------------------\n",
      "inputs :  [[ 0.  0. -1.]\n",
      " [ 0.  1. -1.]\n",
      " [ 1.  0. -1.]\n",
      " [ 1.  1. -1.]]\n",
      "weights :  [0.59987179 0.3000477  0.59996485]\n",
      "z :  [-5.99964845e-01 -2.99917141e-01 -9.30532542e-05  2.99954651e-01]\n",
      "predicted value after forward pass: \n",
      "[0 0 0 1]\n",
      "self.y :  0    0\n",
      "1    0\n",
      "2    0\n",
      "3    1\n",
      "Name: y, dtype: int64\n",
      "y_hat :  [0 0 0 1]\n",
      "error: \n",
      "0    0\n",
      "1    0\n",
      "2    0\n",
      "3    0\n",
      "Name: y, dtype: int64\n",
      "X_with_bias.T :  [[ 0.  0.  1.  1.]\n",
      " [ 0.  1.  0.  1.]\n",
      " [-1. -1. -1. -1.]]\n",
      "updated weights after epoch:\n",
      "7/10 : \n",
      "[0.59987179 0.3000477  0.59996485]\n",
      "##################################################\n",
      "--------------------\n",
      "for epoch: 8\n",
      "--------------------\n",
      "inputs :  [[ 0.  0. -1.]\n",
      " [ 0.  1. -1.]\n",
      " [ 1.  0. -1.]\n",
      " [ 1.  1. -1.]]\n",
      "weights :  [0.59987179 0.3000477  0.59996485]\n",
      "z :  [-5.99964845e-01 -2.99917141e-01 -9.30532542e-05  2.99954651e-01]\n",
      "predicted value after forward pass: \n",
      "[0 0 0 1]\n",
      "self.y :  0    0\n",
      "1    0\n",
      "2    0\n",
      "3    1\n",
      "Name: y, dtype: int64\n",
      "y_hat :  [0 0 0 1]\n",
      "error: \n",
      "0    0\n",
      "1    0\n",
      "2    0\n",
      "3    0\n",
      "Name: y, dtype: int64\n",
      "X_with_bias.T :  [[ 0.  0.  1.  1.]\n",
      " [ 0.  1.  0.  1.]\n",
      " [-1. -1. -1. -1.]]\n",
      "updated weights after epoch:\n",
      "8/10 : \n",
      "[0.59987179 0.3000477  0.59996485]\n",
      "##################################################\n",
      "--------------------\n",
      "for epoch: 9\n",
      "--------------------\n",
      "inputs :  [[ 0.  0. -1.]\n",
      " [ 0.  1. -1.]\n",
      " [ 1.  0. -1.]\n",
      " [ 1.  1. -1.]]\n",
      "weights :  [0.59987179 0.3000477  0.59996485]\n",
      "z :  [-5.99964845e-01 -2.99917141e-01 -9.30532542e-05  2.99954651e-01]\n",
      "predicted value after forward pass: \n",
      "[0 0 0 1]\n",
      "self.y :  0    0\n",
      "1    0\n",
      "2    0\n",
      "3    1\n",
      "Name: y, dtype: int64\n",
      "y_hat :  [0 0 0 1]\n",
      "error: \n",
      "0    0\n",
      "1    0\n",
      "2    0\n",
      "3    0\n",
      "Name: y, dtype: int64\n",
      "X_with_bias.T :  [[ 0.  0.  1.  1.]\n",
      " [ 0.  1.  0.  1.]\n",
      " [-1. -1. -1. -1.]]\n",
      "updated weights after epoch:\n",
      "9/10 : \n",
      "[0.59987179 0.3000477  0.59996485]\n",
      "##################################################\n"
     ]
    }
   ],
   "source": [
    "model.fit(X, y)"
   ]
  },
  {
   "cell_type": "code",
   "execution_count": 56,
   "metadata": {},
   "outputs": [
    {
     "name": "stdout",
     "output_type": "stream",
     "text": [
      "total loss: 0\n"
     ]
    }
   ],
   "source": [
    "_ = model.total_loss()"
   ]
  },
  {
   "cell_type": "code",
   "execution_count": 57,
   "metadata": {},
   "outputs": [
    {
     "name": "stdout",
     "output_type": "stream",
     "text": [
      "X :  [[1 1]]\n",
      "X_with_bias :  [[ 1.  1. -1.]]\n",
      "inputs :  [[ 1.  1. -1.]]\n",
      "weights :  [0.59987179 0.3000477  0.59996485]\n",
      "z :  [0.29995465]\n"
     ]
    },
    {
     "data": {
      "text/plain": [
       "array([1])"
      ]
     },
     "execution_count": 57,
     "metadata": {},
     "output_type": "execute_result"
    }
   ],
   "source": [
    "inputs = np.array([[1,1]])\n",
    "model.predict(inputs)"
   ]
  },
  {
   "cell_type": "code",
   "execution_count": null,
   "metadata": {},
   "outputs": [],
   "source": []
  },
  {
   "cell_type": "code",
   "execution_count": null,
   "metadata": {},
   "outputs": [],
   "source": [
    "##### Delete above"
   ]
  },
  {
   "cell_type": "code",
   "execution_count": 23,
   "metadata": {
    "colab": {
     "base_uri": "https://localhost:8080/"
    },
    "id": "ZLTBRikh4YgE",
    "outputId": "f181c45d-625f-43d8-db3c-dfcef39f349a"
   },
   "outputs": [
    {
     "name": "stdout",
     "output_type": "stream",
     "text": [
      "initial weights before training: \n",
      "[-7.68837545e-05 -1.75020657e-05 -8.06340726e-05]\n",
      "X with bias: \n",
      "[[ 0.  0. -1.]\n",
      " [ 0.  1. -1.]\n",
      " [ 1.  0. -1.]\n",
      " [ 1.  1. -1.]]\n",
      "--------------------\n",
      "for epoch: 0\n",
      "--------------------\n",
      "predicted value after forward pass: \n",
      "[1 1 1 0]\n",
      "error: \n",
      "0   -1\n",
      "1   -1\n",
      "2   -1\n",
      "3    1\n",
      "Name: y, dtype: int64\n",
      "updated weights after epoch:\n",
      "0/10 : \n",
      "[-7.68837545e-05 -1.75020657e-05  5.99919366e-01]\n",
      "##################################################\n",
      "--------------------\n",
      "for epoch: 1\n",
      "--------------------\n",
      "predicted value after forward pass: \n",
      "[0 0 0 0]\n",
      "error: \n",
      "0    0\n",
      "1    0\n",
      "2    0\n",
      "3    1\n",
      "Name: y, dtype: int64\n",
      "updated weights after epoch:\n",
      "1/10 : \n",
      "[0.29992312 0.2999825  0.29991937]\n",
      "##################################################\n",
      "--------------------\n",
      "for epoch: 2\n",
      "--------------------\n",
      "predicted value after forward pass: \n",
      "[0 1 1 1]\n",
      "error: \n",
      "0    0\n",
      "1   -1\n",
      "2   -1\n",
      "3    0\n",
      "Name: y, dtype: int64\n",
      "updated weights after epoch:\n",
      "2/10 : \n",
      "[-7.68837545e-05 -1.75020657e-05  8.99919366e-01]\n",
      "##################################################\n",
      "--------------------\n",
      "for epoch: 3\n",
      "--------------------\n",
      "predicted value after forward pass: \n",
      "[0 0 0 0]\n",
      "error: \n",
      "0    0\n",
      "1    0\n",
      "2    0\n",
      "3    1\n",
      "Name: y, dtype: int64\n",
      "updated weights after epoch:\n",
      "3/10 : \n",
      "[0.29992312 0.2999825  0.59991937]\n",
      "##################################################\n",
      "--------------------\n",
      "for epoch: 4\n",
      "--------------------\n",
      "predicted value after forward pass: \n",
      "[0 0 0 0]\n",
      "error: \n",
      "0    0\n",
      "1    0\n",
      "2    0\n",
      "3    1\n",
      "Name: y, dtype: int64\n",
      "updated weights after epoch:\n",
      "4/10 : \n",
      "[0.59992312 0.5999825  0.29991937]\n",
      "##################################################\n",
      "--------------------\n",
      "for epoch: 5\n",
      "--------------------\n",
      "predicted value after forward pass: \n",
      "[0 1 1 1]\n",
      "error: \n",
      "0    0\n",
      "1   -1\n",
      "2   -1\n",
      "3    0\n",
      "Name: y, dtype: int64\n",
      "updated weights after epoch:\n",
      "5/10 : \n",
      "[0.29992312 0.2999825  0.89991937]\n",
      "##################################################\n",
      "--------------------\n",
      "for epoch: 6\n",
      "--------------------\n",
      "predicted value after forward pass: \n",
      "[0 0 0 0]\n",
      "error: \n",
      "0    0\n",
      "1    0\n",
      "2    0\n",
      "3    1\n",
      "Name: y, dtype: int64\n",
      "updated weights after epoch:\n",
      "6/10 : \n",
      "[0.59992312 0.5999825  0.59991937]\n",
      "##################################################\n",
      "--------------------\n",
      "for epoch: 7\n",
      "--------------------\n",
      "predicted value after forward pass: \n",
      "[0 1 1 1]\n",
      "error: \n",
      "0    0\n",
      "1   -1\n",
      "2   -1\n",
      "3    0\n",
      "Name: y, dtype: int64\n",
      "updated weights after epoch:\n",
      "7/10 : \n",
      "[0.29992312 0.2999825  1.19991937]\n",
      "##################################################\n",
      "--------------------\n",
      "for epoch: 8\n",
      "--------------------\n",
      "predicted value after forward pass: \n",
      "[0 0 0 0]\n",
      "error: \n",
      "0    0\n",
      "1    0\n",
      "2    0\n",
      "3    1\n",
      "Name: y, dtype: int64\n",
      "updated weights after epoch:\n",
      "8/10 : \n",
      "[0.59992312 0.5999825  0.89991937]\n",
      "##################################################\n",
      "--------------------\n",
      "for epoch: 9\n",
      "--------------------\n",
      "predicted value after forward pass: \n",
      "[0 0 0 1]\n",
      "error: \n",
      "0    0\n",
      "1    0\n",
      "2    0\n",
      "3    0\n",
      "Name: y, dtype: int64\n",
      "updated weights after epoch:\n",
      "9/10 : \n",
      "[0.59992312 0.5999825  0.89991937]\n",
      "##################################################\n",
      "total loss: 0\n"
     ]
    }
   ],
   "source": [
    "X,y = prepare_data(df)\n",
    "\n",
    "ETA = 0.3 # 0 and 1\n",
    "EPOCHS = 10\n",
    "\n",
    "model = Perceptron(eta=ETA, epochs=EPOCHS)\n",
    "model.fit(X, y)\n",
    "\n",
    "_ = model.total_loss()\n"
   ]
  },
  {
   "cell_type": "code",
   "execution_count": 24,
   "metadata": {
    "colab": {
     "base_uri": "https://localhost:8080/"
    },
    "id": "1d1buZgF47uU",
    "outputId": "612aca94-0226-4690-8c74-93778cff25b9"
   },
   "outputs": [
    {
     "data": {
      "text/plain": [
       "array([0, 0, 0, 1])"
      ]
     },
     "execution_count": 24,
     "metadata": {},
     "output_type": "execute_result"
    }
   ],
   "source": [
    "model.predict(X)"
   ]
  },
  {
   "cell_type": "code",
   "execution_count": 25,
   "metadata": {
    "colab": {
     "base_uri": "https://localhost:8080/"
    },
    "id": "uzgNIp848cr0",
    "outputId": "2c6d9f60-661b-4bad-afc8-c52f4dc7edd3"
   },
   "outputs": [
    {
     "data": {
      "text/plain": [
       "array([[0, 0],\n",
       "       [0, 1],\n",
       "       [1, 0],\n",
       "       [1, 1]])"
      ]
     },
     "execution_count": 25,
     "metadata": {},
     "output_type": "execute_result"
    }
   ],
   "source": [
    "X.values"
   ]
  },
  {
   "cell_type": "code",
   "execution_count": 26,
   "metadata": {
    "colab": {
     "base_uri": "https://localhost:8080/"
    },
    "id": "SQVVfSQO8Wj7",
    "outputId": "a0f4c790-385a-413a-ed23-9a9752dccc92"
   },
   "outputs": [
    {
     "data": {
      "text/plain": [
       "array([1, 0])"
      ]
     },
     "execution_count": 26,
     "metadata": {},
     "output_type": "execute_result"
    }
   ],
   "source": [
    "inputs = np.array([[1,1], [0,1]])\n",
    "model.predict(inputs)"
   ]
  },
  {
   "cell_type": "code",
   "execution_count": 27,
   "metadata": {
    "id": "TJI966OH8iSB"
   },
   "outputs": [],
   "source": [
    "def save_model(model, filename):\n",
    "    \n",
    "    model_dir = \"models\"\n",
    "    os.makedirs(model_dir, exist_ok=True) # ONLY CREATE IF MODEL_DIR DOESN\"T EXISTS\n",
    "    filePath = os.path.join(model_dir, filename) # model/filename\n",
    "    joblib.dump(model, filePath)"
   ]
  },
  {
   "cell_type": "code",
   "execution_count": 28,
   "metadata": {
    "id": "a2wQoJLr9nt6"
   },
   "outputs": [],
   "source": [
    "save_model(model, \"and.model\")"
   ]
  },
  {
   "cell_type": "code",
   "execution_count": 29,
   "metadata": {
    "colab": {
     "base_uri": "https://localhost:8080/"
    },
    "id": "-bjBLsUW9r-p",
    "outputId": "f0c7a06a-d8a2-47c1-c2d3-212600ee2908"
   },
   "outputs": [
    {
     "data": {
      "text/plain": [
       "array([1, 0])"
      ]
     },
     "execution_count": 29,
     "metadata": {},
     "output_type": "execute_result"
    }
   ],
   "source": [
    "loaded_model = joblib.load(\"models/and.model\")\n",
    "loaded_model.predict(inputs)"
   ]
  }
 ],
 "metadata": {
  "colab": {
   "collapsed_sections": [],
   "provenance": []
  },
  "kernelspec": {
   "display_name": "Python 3 (ipykernel)",
   "language": "python",
   "name": "python3"
  },
  "language_info": {
   "codemirror_mode": {
    "name": "ipython",
    "version": 3
   },
   "file_extension": ".py",
   "mimetype": "text/x-python",
   "name": "python",
   "nbconvert_exporter": "python",
   "pygments_lexer": "ipython3",
   "version": "3.9.12"
  }
 },
 "nbformat": 4,
 "nbformat_minor": 1
}
