{
  "nbformat": 4,
  "nbformat_minor": 0,
  "metadata": {
    "colab": {
      "provenance": []
    },
    "kernelspec": {
      "name": "python3",
      "display_name": "Python 3"
    },
    "language_info": {
      "name": "python"
    }
  },
  "cells": [
    {
      "cell_type": "markdown",
      "metadata": {
        "id": "cqLNhhCMwisd"
      },
      "source": [
        "## TIMING FOR EXTRA SESSIONS - \n",
        "Mon, Tue, Wed, Fri\n",
        "\n",
        "Timining -\n",
        "2100 - 2200 hrs IST Session\n"
      ]
    },
    {
      "cell_type": "code",
      "metadata": {
        "id": "q0UOEniBrDus"
      },
      "source": [
        "import os\n",
        "import tensorflow as tf\n",
        "import numpy as np\n",
        "import matplotlib.pyplot as plt\n",
        "plt.style.use(\"fivethirtyeight\")"
      ],
      "execution_count": null,
      "outputs": []
    },
    {
      "cell_type": "code",
      "metadata": {
        "id": "i0No1GuzwiAq"
      },
      "source": [],
      "execution_count": null,
      "outputs": []
    },
    {
      "cell_type": "code",
      "metadata": {
        "colab": {
          "base_uri": "https://localhost:8080/"
        },
        "id": "mnJfUZI2rPfF",
        "outputId": "c2bb4f29-93ea-4586-c688-b2c6f05cb42a"
      },
      "source": [
        "(X_train_full, y_train_full), (X_test, y_test) = tf.keras.datasets.fashion_mnist.load_data()\n",
        "X_train_full = X_train_full / 255.0\n",
        "X_test = X_test / 255.0\n",
        "X_valid, X_train = X_train_full[:5000], X_train_full[5000:]\n",
        "y_valid, y_train = y_train_full[:5000], y_train_full[5000:]"
      ],
      "execution_count": null,
      "outputs": [
        {
          "output_type": "stream",
          "name": "stdout",
          "text": [
            "Downloading data from https://storage.googleapis.com/tensorflow/tf-keras-datasets/train-labels-idx1-ubyte.gz\n",
            "32768/29515 [=================================] - 0s 0us/step\n",
            "40960/29515 [=========================================] - 0s 0us/step\n",
            "Downloading data from https://storage.googleapis.com/tensorflow/tf-keras-datasets/train-images-idx3-ubyte.gz\n",
            "26427392/26421880 [==============================] - 0s 0us/step\n",
            "26435584/26421880 [==============================] - 0s 0us/step\n",
            "Downloading data from https://storage.googleapis.com/tensorflow/tf-keras-datasets/t10k-labels-idx1-ubyte.gz\n",
            "16384/5148 [===============================================================================================] - 0s 0us/step\n",
            "Downloading data from https://storage.googleapis.com/tensorflow/tf-keras-datasets/t10k-images-idx3-ubyte.gz\n",
            "4423680/4422102 [==============================] - 0s 0us/step\n",
            "4431872/4422102 [==============================] - 0s 0us/step\n"
          ]
        }
      ]
    },
    {
      "cell_type": "code",
      "metadata": {
        "id": "W8IKWEjkJVYw"
      },
      "source": [
        "tf.random.set_seed(42)\n",
        "np.random.seed(42)\n",
        "\n",
        "LAYERS = [ tf.keras.layers.Flatten(input_shape=[28, 28]),\n",
        "    tf.keras.layers.Dense(300, kernel_initializer=\"he_normal\"),\n",
        "    tf.keras.layers.LeakyReLU(),\n",
        "    tf.keras.layers.Dense(100, kernel_initializer=\"he_normal\"),\n",
        "    tf.keras.layers.LeakyReLU(),\n",
        "    tf.keras.layers.Dense(10, activation=\"softmax\")]\n",
        "\n",
        "\n",
        "model = tf.keras.models.Sequential(LAYERS)"
      ],
      "execution_count": null,
      "outputs": []
    },
    {
      "cell_type": "code",
      "metadata": {
        "id": "YHVxFkNJJVYw",
        "colab": {
          "base_uri": "https://localhost:8080/"
        },
        "outputId": "3a3a9754-4587-4c84-c7ca-4c313f51fce7"
      },
      "source": [
        "model.compile(loss=\"sparse_categorical_crossentropy\",\n",
        "              optimizer=tf.keras.optimizers.SGD(lr=1e-3),\n",
        "              metrics=[\"accuracy\"])"
      ],
      "execution_count": null,
      "outputs": [
        {
          "output_type": "stream",
          "name": "stderr",
          "text": [
            "/usr/local/lib/python3.7/dist-packages/keras/optimizer_v2/gradient_descent.py:102: UserWarning: The `lr` argument is deprecated, use `learning_rate` instead.\n",
            "  super(SGD, self).__init__(name, **kwargs)\n"
          ]
        }
      ]
    },
    {
      "cell_type": "code",
      "metadata": {
        "colab": {
          "base_uri": "https://localhost:8080/"
        },
        "id": "sbVQZkWNUUBZ",
        "outputId": "33c279cb-39b0-4ec0-95cc-d912b9dc72c9"
      },
      "source": [
        "model.summary()"
      ],
      "execution_count": null,
      "outputs": [
        {
          "output_type": "stream",
          "name": "stdout",
          "text": [
            "Model: \"sequential\"\n",
            "_________________________________________________________________\n",
            " Layer (type)                Output Shape              Param #   \n",
            "=================================================================\n",
            " flatten (Flatten)           (None, 784)               0         \n",
            "                                                                 \n",
            " dense (Dense)               (None, 300)               235500    \n",
            "                                                                 \n",
            " leaky_re_lu (LeakyReLU)     (None, 300)               0         \n",
            "                                                                 \n",
            " dense_1 (Dense)             (None, 100)               30100     \n",
            "                                                                 \n",
            " leaky_re_lu_1 (LeakyReLU)   (None, 100)               0         \n",
            "                                                                 \n",
            " dense_2 (Dense)             (None, 10)                1010      \n",
            "                                                                 \n",
            "=================================================================\n",
            "Total params: 266,610\n",
            "Trainable params: 266,610\n",
            "Non-trainable params: 0\n",
            "_________________________________________________________________\n"
          ]
        }
      ]
    },
    {
      "cell_type": "code",
      "metadata": {
        "colab": {
          "base_uri": "https://localhost:8080/"
        },
        "id": "B5rKJye3JVYw",
        "jupyter": {
          "source_hidden": true
        },
        "scrolled": true,
        "outputId": "6ba3b4a1-24fb-47a8-86a1-9080e1c1b54e"
      },
      "source": [
        "history = model.fit(X_train, y_train, epochs=10,\n",
        "                    validation_data=(X_valid, y_valid), verbose=2)"
      ],
      "execution_count": null,
      "outputs": [
        {
          "output_type": "stream",
          "name": "stdout",
          "text": [
            "Epoch 1/10\n",
            "1719/1719 - 7s - loss: 1.2819 - accuracy: 0.6229 - val_loss: 0.8886 - val_accuracy: 0.7160 - 7s/epoch - 4ms/step\n",
            "Epoch 2/10\n",
            "1719/1719 - 6s - loss: 0.7955 - accuracy: 0.7361 - val_loss: 0.7130 - val_accuracy: 0.7656 - 6s/epoch - 3ms/step\n",
            "Epoch 3/10\n",
            "1719/1719 - 6s - loss: 0.6816 - accuracy: 0.7721 - val_loss: 0.6427 - val_accuracy: 0.7900 - 6s/epoch - 3ms/step\n",
            "Epoch 4/10\n",
            "1719/1719 - 6s - loss: 0.6217 - accuracy: 0.7944 - val_loss: 0.5900 - val_accuracy: 0.8064 - 6s/epoch - 3ms/step\n",
            "Epoch 5/10\n",
            "1719/1719 - 6s - loss: 0.5832 - accuracy: 0.8074 - val_loss: 0.5582 - val_accuracy: 0.8200 - 6s/epoch - 3ms/step\n",
            "Epoch 6/10\n",
            "1719/1719 - 6s - loss: 0.5553 - accuracy: 0.8156 - val_loss: 0.5350 - val_accuracy: 0.8238 - 6s/epoch - 3ms/step\n",
            "Epoch 7/10\n",
            "1719/1719 - 6s - loss: 0.5339 - accuracy: 0.8223 - val_loss: 0.5156 - val_accuracy: 0.8302 - 6s/epoch - 3ms/step\n",
            "Epoch 8/10\n",
            "1719/1719 - 6s - loss: 0.5173 - accuracy: 0.8272 - val_loss: 0.5079 - val_accuracy: 0.8284 - 6s/epoch - 3ms/step\n",
            "Epoch 9/10\n",
            "1719/1719 - 6s - loss: 0.5040 - accuracy: 0.8290 - val_loss: 0.4895 - val_accuracy: 0.8386 - 6s/epoch - 3ms/step\n",
            "Epoch 10/10\n",
            "1719/1719 - 5s - loss: 0.4924 - accuracy: 0.8319 - val_loss: 0.4817 - val_accuracy: 0.8396 - 5s/epoch - 3ms/step\n"
          ]
        }
      ]
    },
    {
      "cell_type": "markdown",
      "metadata": {
        "id": "sfximP7nrzPy"
      },
      "source": [
        "## BN Approach One"
      ]
    },
    {
      "cell_type": "code",
      "metadata": {
        "id": "0BJ1OzHOrk9l"
      },
      "source": [
        "LAYERS_BN_ONE = [ \n",
        "          tf.keras.layers.Flatten(input_shape=[28, 28]),\n",
        "          tf.keras.layers.BatchNormalization(),\n",
        "          tf.keras.layers.Dense(300, activation=\"relu\", kernel_initializer=\"he_normal\"),\n",
        "          tf.keras.layers.BatchNormalization(),\n",
        "          tf.keras.layers.Dense(100,activation=\"relu\", kernel_initializer=\"he_normal\"),\n",
        "          tf.keras.layers.BatchNormalization(),\n",
        "          tf.keras.layers.Dense(10, activation=\"softmax\")\n",
        "          ]"
      ],
      "execution_count": null,
      "outputs": []
    },
    {
      "cell_type": "code",
      "metadata": {
        "id": "TuES0MrztMIC"
      },
      "source": [
        "model_one = tf.keras.models.Sequential(LAYERS_BN_ONE)"
      ],
      "execution_count": null,
      "outputs": []
    },
    {
      "cell_type": "code",
      "metadata": {
        "colab": {
          "base_uri": "https://localhost:8080/"
        },
        "id": "VE2-DH-0tU5H",
        "outputId": "688df957-49fc-4430-e1e7-d4aa37468e73"
      },
      "source": [
        "model_one.summary()"
      ],
      "execution_count": null,
      "outputs": [
        {
          "output_type": "stream",
          "name": "stdout",
          "text": [
            "Model: \"sequential_1\"\n",
            "_________________________________________________________________\n",
            " Layer (type)                Output Shape              Param #   \n",
            "=================================================================\n",
            " flatten_1 (Flatten)         (None, 784)               0         \n",
            "                                                                 \n",
            " batch_normalization (BatchN  (None, 784)              3136      \n",
            " ormalization)                                                   \n",
            "                                                                 \n",
            " dense_3 (Dense)             (None, 300)               235500    \n",
            "                                                                 \n",
            " batch_normalization_1 (Batc  (None, 300)              1200      \n",
            " hNormalization)                                                 \n",
            "                                                                 \n",
            " dense_4 (Dense)             (None, 100)               30100     \n",
            "                                                                 \n",
            " batch_normalization_2 (Batc  (None, 100)              400       \n",
            " hNormalization)                                                 \n",
            "                                                                 \n",
            " dense_5 (Dense)             (None, 10)                1010      \n",
            "                                                                 \n",
            "=================================================================\n",
            "Total params: 271,346\n",
            "Trainable params: 268,978\n",
            "Non-trainable params: 2,368\n",
            "_________________________________________________________________\n"
          ]
        }
      ]
    },
    {
      "cell_type": "code",
      "metadata": {
        "colab": {
          "base_uri": "https://localhost:8080/"
        },
        "id": "XE7qbno3tZ1k",
        "outputId": "49097fbf-a6ae-4446-b052-9d2eb9751912"
      },
      "source": [
        "784 * 4 ## gamma, beta, mu, sigma"
      ],
      "execution_count": null,
      "outputs": [
        {
          "output_type": "execute_result",
          "data": {
            "text/plain": [
              "3136"
            ]
          },
          "metadata": {},
          "execution_count": 11
        }
      ]
    },
    {
      "cell_type": "code",
      "metadata": {
        "colab": {
          "base_uri": "https://localhost:8080/"
        },
        "id": "NtY5_JdvtqwE",
        "outputId": "9a01e79c-88ef-4dde-ce29-3aae8eed8df8"
      },
      "source": [
        "300 * 4 "
      ],
      "execution_count": null,
      "outputs": [
        {
          "output_type": "execute_result",
          "data": {
            "text/plain": [
              "1200"
            ]
          },
          "metadata": {},
          "execution_count": 12
        }
      ]
    },
    {
      "cell_type": "code",
      "metadata": {
        "colab": {
          "base_uri": "https://localhost:8080/"
        },
        "id": "N_JKCbJztu2N",
        "outputId": "3ca5b21b-f0a3-4648-8e24-bb04d3d22d30"
      },
      "source": [
        "100 * 4"
      ],
      "execution_count": null,
      "outputs": [
        {
          "output_type": "execute_result",
          "data": {
            "text/plain": [
              "400"
            ]
          },
          "metadata": {},
          "execution_count": 13
        }
      ]
    },
    {
      "cell_type": "code",
      "metadata": {
        "colab": {
          "base_uri": "https://localhost:8080/"
        },
        "id": "ObO7jIugtxbb",
        "outputId": "80f2d380-3d6b-46bf-90a0-69b8dd43b5b6"
      },
      "source": [
        "BN_para = 784 * 4 + 300 * 4 + 100 * 4\n",
        "BN_para"
      ],
      "execution_count": null,
      "outputs": [
        {
          "output_type": "execute_result",
          "data": {
            "text/plain": [
              "4736"
            ]
          },
          "metadata": {},
          "execution_count": 15
        }
      ]
    },
    {
      "cell_type": "code",
      "metadata": {
        "colab": {
          "base_uri": "https://localhost:8080/"
        },
        "id": "p1CrY1tkt5t1",
        "outputId": "56aaee78-34a8-49ff-ce51-ba4f51f2ab7e"
      },
      "source": [
        "trainable_BN_para = BN_para / 2\n",
        "trainable_BN_para"
      ],
      "execution_count": null,
      "outputs": [
        {
          "output_type": "execute_result",
          "data": {
            "text/plain": [
              "2368.0"
            ]
          },
          "metadata": {},
          "execution_count": 16
        }
      ]
    },
    {
      "cell_type": "code",
      "metadata": {
        "colab": {
          "base_uri": "https://localhost:8080/"
        },
        "id": "4man3DjyuD-i",
        "outputId": "775aab01-c74a-4d3d-e301-f6717d0b687e"
      },
      "source": [
        "BN_para - trainable_BN_para ## non trainable"
      ],
      "execution_count": null,
      "outputs": [
        {
          "output_type": "execute_result",
          "data": {
            "text/plain": [
              "2368.0"
            ]
          },
          "metadata": {},
          "execution_count": 17
        }
      ]
    },
    {
      "cell_type": "code",
      "metadata": {
        "colab": {
          "base_uri": "https://localhost:8080/"
        },
        "id": "E3GM-cjzuK_E",
        "outputId": "9e781b65-6d6f-4e9f-b4ea-667f7b6c916a"
      },
      "source": [
        "model_one.layers"
      ],
      "execution_count": null,
      "outputs": [
        {
          "output_type": "execute_result",
          "data": {
            "text/plain": [
              "[<keras.layers.core.flatten.Flatten at 0x7f070aef5a90>,\n",
              " <keras.layers.normalization.batch_normalization.BatchNormalization at 0x7f070aef51d0>,\n",
              " <keras.layers.core.dense.Dense at 0x7f070bf0ba50>,\n",
              " <keras.layers.normalization.batch_normalization.BatchNormalization at 0x7f070bec2c50>,\n",
              " <keras.layers.core.dense.Dense at 0x7f070bec2e50>,\n",
              " <keras.layers.normalization.batch_normalization.BatchNormalization at 0x7f070f6fa710>,\n",
              " <keras.layers.core.dense.Dense at 0x7f070ee15410>]"
            ]
          },
          "metadata": {},
          "execution_count": 19
        }
      ]
    },
    {
      "cell_type": "code",
      "metadata": {
        "colab": {
          "base_uri": "https://localhost:8080/"
        },
        "id": "DCUkhRilucUr",
        "outputId": "de03c8df-7e5a-465c-e68b-4cca3c6021ba"
      },
      "source": [
        "bn1 = model_one.layers[1]\n",
        "for variable in bn1.variables:\n",
        "  print(variable.name, variable.trainable)"
      ],
      "execution_count": null,
      "outputs": [
        {
          "output_type": "stream",
          "name": "stdout",
          "text": [
            "batch_normalization/gamma:0 True\n",
            "batch_normalization/beta:0 True\n",
            "batch_normalization/moving_mean:0 False\n",
            "batch_normalization/moving_variance:0 False\n"
          ]
        }
      ]
    },
    {
      "cell_type": "code",
      "metadata": {
        "colab": {
          "base_uri": "https://localhost:8080/"
        },
        "id": "ERNh879KunCM",
        "outputId": "79925b8d-cfd2-485f-cc08-2e2ef630c60f"
      },
      "source": [
        "model_one.compile(loss=\"sparse_categorical_crossentropy\",\n",
        "              optimizer=tf.keras.optimizers.SGD(lr=1e-3),\n",
        "              metrics=[\"accuracy\"])"
      ],
      "execution_count": null,
      "outputs": [
        {
          "output_type": "stream",
          "name": "stderr",
          "text": [
            "/usr/local/lib/python3.7/dist-packages/keras/optimizer_v2/gradient_descent.py:102: UserWarning: The `lr` argument is deprecated, use `learning_rate` instead.\n",
            "  super(SGD, self).__init__(name, **kwargs)\n"
          ]
        }
      ]
    },
    {
      "cell_type": "code",
      "metadata": {
        "colab": {
          "base_uri": "https://localhost:8080/"
        },
        "id": "XYfT9pHzvSIh",
        "outputId": "2c034b59-33a5-4095-9bf0-ff517821adea"
      },
      "source": [
        "history = model_one.fit(X_train, y_train, epochs=10,\n",
        "                    validation_data=(X_valid, y_valid), verbose=2)"
      ],
      "execution_count": null,
      "outputs": [
        {
          "output_type": "stream",
          "name": "stdout",
          "text": [
            "Epoch 1/10\n",
            "1719/1719 - 11s - loss: 0.9123 - accuracy: 0.6961 - val_loss: 0.5906 - val_accuracy: 0.8032 - 11s/epoch - 7ms/step\n",
            "Epoch 2/10\n",
            "1719/1719 - 10s - loss: 0.6127 - accuracy: 0.7893 - val_loss: 0.5002 - val_accuracy: 0.8332 - 10s/epoch - 6ms/step\n",
            "Epoch 3/10\n",
            "1719/1719 - 10s - loss: 0.5483 - accuracy: 0.8105 - val_loss: 0.4617 - val_accuracy: 0.8424 - 10s/epoch - 6ms/step\n",
            "Epoch 4/10\n",
            "1719/1719 - 10s - loss: 0.5075 - accuracy: 0.8237 - val_loss: 0.4382 - val_accuracy: 0.8504 - 10s/epoch - 6ms/step\n",
            "Epoch 5/10\n",
            "1719/1719 - 10s - loss: 0.4800 - accuracy: 0.8329 - val_loss: 0.4223 - val_accuracy: 0.8552 - 10s/epoch - 6ms/step\n",
            "Epoch 6/10\n",
            "1719/1719 - 10s - loss: 0.4640 - accuracy: 0.8376 - val_loss: 0.4102 - val_accuracy: 0.8614 - 10s/epoch - 6ms/step\n",
            "Epoch 7/10\n",
            "1719/1719 - 10s - loss: 0.4495 - accuracy: 0.8427 - val_loss: 0.3989 - val_accuracy: 0.8616 - 10s/epoch - 6ms/step\n",
            "Epoch 8/10\n",
            "1719/1719 - 10s - loss: 0.4373 - accuracy: 0.8455 - val_loss: 0.3925 - val_accuracy: 0.8650 - 10s/epoch - 6ms/step\n",
            "Epoch 9/10\n",
            "1719/1719 - 10s - loss: 0.4250 - accuracy: 0.8494 - val_loss: 0.3857 - val_accuracy: 0.8654 - 10s/epoch - 6ms/step\n",
            "Epoch 10/10\n",
            "1719/1719 - 10s - loss: 0.4155 - accuracy: 0.8531 - val_loss: 0.3800 - val_accuracy: 0.8674 - 10s/epoch - 6ms/step\n"
          ]
        }
      ]
    },
    {
      "cell_type": "markdown",
      "metadata": {
        "id": "JlOQXPytvf9o"
      },
      "source": [
        "## BN Approach Two"
      ]
    },
    {
      "cell_type": "code",
      "metadata": {
        "id": "652rQ5A_vVhM"
      },
      "source": [
        "LAYERS_BN_TWO = [ \n",
        "          tf.keras.layers.Flatten(input_shape=[28, 28]),\n",
        "          tf.keras.layers.BatchNormalization(),\n",
        "          tf.keras.layers.Dense(300, kernel_initializer=\"he_normal\"),\n",
        "          tf.keras.layers.BatchNormalization(),\n",
        "          tf.keras.layers.Activation(\"relu\"),\n",
        "          tf.keras.layers.Dense(100,kernel_initializer=\"he_normal\"),\n",
        "          tf.keras.layers.BatchNormalization(),\n",
        "          tf.keras.layers.Activation(\"relu\"),          \n",
        "          tf.keras.layers.Dense(10, activation=\"softmax\")\n",
        "          ]"
      ],
      "execution_count": null,
      "outputs": []
    }
  ]
}